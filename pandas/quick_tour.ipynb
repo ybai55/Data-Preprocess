{
 "cells": [
  {
   "cell_type": "code",
   "execution_count": 2,
   "metadata": {
    "collapsed": true,
    "pycharm": {
     "name": "#%%\n"
    }
   },
   "outputs": [],
   "source": [
    "import pandas as pd\n",
    "import numpy as np"
   ]
  },
  {
   "cell_type": "markdown",
   "metadata": {
    "pycharm": {
     "name": "#%% md\n"
    }
   },
   "source": [
    "## Quick review of official \"10 minutes to pandas\""
   ]
  },
  {
   "cell_type": "markdown",
   "source": [
    "#### 创建\n",
    "\n",
    "Series 和 DataFrame"
   ],
   "metadata": {
    "collapsed": false,
    "pycharm": {
     "name": "#%% md\n"
    }
   }
  },
  {
   "cell_type": "code",
   "execution_count": 3,
   "outputs": [
    {
     "data": {
      "text/plain": "0    1.0\n1    3.0\n2    5.0\n3    NaN\n4    7.0\ndtype: float64"
     },
     "execution_count": 3,
     "metadata": {},
     "output_type": "execute_result"
    }
   ],
   "source": [
    "s = pd.Series([1, 3, 5, np.nan, 7])\n",
    "s"
   ],
   "metadata": {
    "collapsed": false,
    "pycharm": {
     "name": "#%%\n"
    }
   }
  },
  {
   "cell_type": "code",
   "execution_count": 6,
   "outputs": [
    {
     "data": {
      "text/plain": "                   A         B         C         D\n2021-01-01  0.627445  0.919570 -1.187726 -0.101283\n2021-01-02 -0.018015 -1.452471 -0.897048  2.337127\n2021-01-03 -0.550587  0.167760 -0.883465 -0.923230\n2021-01-04 -0.150730  0.631339 -1.545795  0.008567\n2021-01-05  0.752789 -0.506569  0.136119  0.626670\n2021-01-06  0.476722 -1.062432  0.988346  0.543079",
      "text/html": "<div>\n<style scoped>\n    .dataframe tbody tr th:only-of-type {\n        vertical-align: middle;\n    }\n\n    .dataframe tbody tr th {\n        vertical-align: top;\n    }\n\n    .dataframe thead th {\n        text-align: right;\n    }\n</style>\n<table border=\"1\" class=\"dataframe\">\n  <thead>\n    <tr style=\"text-align: right;\">\n      <th></th>\n      <th>A</th>\n      <th>B</th>\n      <th>C</th>\n      <th>D</th>\n    </tr>\n  </thead>\n  <tbody>\n    <tr>\n      <th>2021-01-01</th>\n      <td>0.627445</td>\n      <td>0.919570</td>\n      <td>-1.187726</td>\n      <td>-0.101283</td>\n    </tr>\n    <tr>\n      <th>2021-01-02</th>\n      <td>-0.018015</td>\n      <td>-1.452471</td>\n      <td>-0.897048</td>\n      <td>2.337127</td>\n    </tr>\n    <tr>\n      <th>2021-01-03</th>\n      <td>-0.550587</td>\n      <td>0.167760</td>\n      <td>-0.883465</td>\n      <td>-0.923230</td>\n    </tr>\n    <tr>\n      <th>2021-01-04</th>\n      <td>-0.150730</td>\n      <td>0.631339</td>\n      <td>-1.545795</td>\n      <td>0.008567</td>\n    </tr>\n    <tr>\n      <th>2021-01-05</th>\n      <td>0.752789</td>\n      <td>-0.506569</td>\n      <td>0.136119</td>\n      <td>0.626670</td>\n    </tr>\n    <tr>\n      <th>2021-01-06</th>\n      <td>0.476722</td>\n      <td>-1.062432</td>\n      <td>0.988346</td>\n      <td>0.543079</td>\n    </tr>\n  </tbody>\n</table>\n</div>"
     },
     "execution_count": 6,
     "metadata": {},
     "output_type": "execute_result"
    }
   ],
   "source": [
    "# 通过 Numpy arrays创建DataFrames\n",
    "dates = pd.date_range(\"20210101\", periods=6)\n",
    "df = pd.DataFrame(np.random.randn(6, 4), index=dates, columns=list(\"ABCD\"))\n",
    "df"
   ],
   "metadata": {
    "collapsed": false,
    "pycharm": {
     "name": "#%%\n"
    }
   }
  },
  {
   "cell_type": "code",
   "execution_count": 8,
   "outputs": [
    {
     "data": {
      "text/plain": "     A          B    C  D      E    F\n0  1.0 2021-01-01  1.0  3   test  foo\n1  1.0 2021-01-01  1.0  3  train  foo\n2  1.0 2021-01-01  1.0  3   test  foo\n3  1.0 2021-01-01  1.0  3  train  foo",
      "text/html": "<div>\n<style scoped>\n    .dataframe tbody tr th:only-of-type {\n        vertical-align: middle;\n    }\n\n    .dataframe tbody tr th {\n        vertical-align: top;\n    }\n\n    .dataframe thead th {\n        text-align: right;\n    }\n</style>\n<table border=\"1\" class=\"dataframe\">\n  <thead>\n    <tr style=\"text-align: right;\">\n      <th></th>\n      <th>A</th>\n      <th>B</th>\n      <th>C</th>\n      <th>D</th>\n      <th>E</th>\n      <th>F</th>\n    </tr>\n  </thead>\n  <tbody>\n    <tr>\n      <th>0</th>\n      <td>1.0</td>\n      <td>2021-01-01</td>\n      <td>1.0</td>\n      <td>3</td>\n      <td>test</td>\n      <td>foo</td>\n    </tr>\n    <tr>\n      <th>1</th>\n      <td>1.0</td>\n      <td>2021-01-01</td>\n      <td>1.0</td>\n      <td>3</td>\n      <td>train</td>\n      <td>foo</td>\n    </tr>\n    <tr>\n      <th>2</th>\n      <td>1.0</td>\n      <td>2021-01-01</td>\n      <td>1.0</td>\n      <td>3</td>\n      <td>test</td>\n      <td>foo</td>\n    </tr>\n    <tr>\n      <th>3</th>\n      <td>1.0</td>\n      <td>2021-01-01</td>\n      <td>1.0</td>\n      <td>3</td>\n      <td>train</td>\n      <td>foo</td>\n    </tr>\n  </tbody>\n</table>\n</div>"
     },
     "execution_count": 8,
     "metadata": {},
     "output_type": "execute_result"
    }
   ],
   "source": [
    "# DataFrames 同样可以通过dict来创建。但是不建议。\n",
    "df2 = pd.DataFrame({\n",
    "    \"A\": 1.0,\n",
    "    \"B\": pd.Timestamp(\"20210101\"),\n",
    "    \"C\": pd.Series(1, index=list(range(4)), dtype=\"float32\"),\n",
    "    \"D\": np.array([3] * 4, dtype=\"int32\"),\n",
    "    \"E\": pd.Categorical([\"test\", \"train\", \"test\", \"train\"]),\n",
    "    \"F\": \"foo\",\n",
    "})\n",
    "df2"
   ],
   "metadata": {
    "collapsed": false,
    "pycharm": {
     "name": "#%%\n"
    }
   }
  },
  {
   "cell_type": "code",
   "execution_count": 9,
   "outputs": [
    {
     "data": {
      "text/plain": "A           float64\nB    datetime64[ns]\nC           float32\nD             int32\nE          category\nF            object\ndtype: object"
     },
     "execution_count": 9,
     "metadata": {},
     "output_type": "execute_result"
    }
   ],
   "source": [
    "# 查看数据类型\n",
    "df2.dtypes"
   ],
   "metadata": {
    "collapsed": false,
    "pycharm": {
     "name": "#%%\n"
    }
   }
  },
  {
   "cell_type": "markdown",
   "source": [
    "#### 查看数据\n"
   ],
   "metadata": {
    "collapsed": false,
    "pycharm": {
     "name": "#%% md\n"
    }
   }
  },
  {
   "cell_type": "code",
   "execution_count": 10,
   "outputs": [
    {
     "data": {
      "text/plain": "                   A         B         C         D\n2021-01-01  0.627445  0.919570 -1.187726 -0.101283\n2021-01-02 -0.018015 -1.452471 -0.897048  2.337127\n2021-01-03 -0.550587  0.167760 -0.883465 -0.923230\n2021-01-04 -0.150730  0.631339 -1.545795  0.008567\n2021-01-05  0.752789 -0.506569  0.136119  0.626670",
      "text/html": "<div>\n<style scoped>\n    .dataframe tbody tr th:only-of-type {\n        vertical-align: middle;\n    }\n\n    .dataframe tbody tr th {\n        vertical-align: top;\n    }\n\n    .dataframe thead th {\n        text-align: right;\n    }\n</style>\n<table border=\"1\" class=\"dataframe\">\n  <thead>\n    <tr style=\"text-align: right;\">\n      <th></th>\n      <th>A</th>\n      <th>B</th>\n      <th>C</th>\n      <th>D</th>\n    </tr>\n  </thead>\n  <tbody>\n    <tr>\n      <th>2021-01-01</th>\n      <td>0.627445</td>\n      <td>0.919570</td>\n      <td>-1.187726</td>\n      <td>-0.101283</td>\n    </tr>\n    <tr>\n      <th>2021-01-02</th>\n      <td>-0.018015</td>\n      <td>-1.452471</td>\n      <td>-0.897048</td>\n      <td>2.337127</td>\n    </tr>\n    <tr>\n      <th>2021-01-03</th>\n      <td>-0.550587</td>\n      <td>0.167760</td>\n      <td>-0.883465</td>\n      <td>-0.923230</td>\n    </tr>\n    <tr>\n      <th>2021-01-04</th>\n      <td>-0.150730</td>\n      <td>0.631339</td>\n      <td>-1.545795</td>\n      <td>0.008567</td>\n    </tr>\n    <tr>\n      <th>2021-01-05</th>\n      <td>0.752789</td>\n      <td>-0.506569</td>\n      <td>0.136119</td>\n      <td>0.626670</td>\n    </tr>\n  </tbody>\n</table>\n</div>"
     },
     "execution_count": 10,
     "metadata": {},
     "output_type": "execute_result"
    }
   ],
   "source": [
    "df.head()"
   ],
   "metadata": {
    "collapsed": false,
    "pycharm": {
     "name": "#%%\n"
    }
   }
  },
  {
   "cell_type": "code",
   "execution_count": 11,
   "outputs": [
    {
     "data": {
      "text/plain": "                   A         B         C         D\n2021-01-04 -0.150730  0.631339 -1.545795  0.008567\n2021-01-05  0.752789 -0.506569  0.136119  0.626670\n2021-01-06  0.476722 -1.062432  0.988346  0.543079",
      "text/html": "<div>\n<style scoped>\n    .dataframe tbody tr th:only-of-type {\n        vertical-align: middle;\n    }\n\n    .dataframe tbody tr th {\n        vertical-align: top;\n    }\n\n    .dataframe thead th {\n        text-align: right;\n    }\n</style>\n<table border=\"1\" class=\"dataframe\">\n  <thead>\n    <tr style=\"text-align: right;\">\n      <th></th>\n      <th>A</th>\n      <th>B</th>\n      <th>C</th>\n      <th>D</th>\n    </tr>\n  </thead>\n  <tbody>\n    <tr>\n      <th>2021-01-04</th>\n      <td>-0.150730</td>\n      <td>0.631339</td>\n      <td>-1.545795</td>\n      <td>0.008567</td>\n    </tr>\n    <tr>\n      <th>2021-01-05</th>\n      <td>0.752789</td>\n      <td>-0.506569</td>\n      <td>0.136119</td>\n      <td>0.626670</td>\n    </tr>\n    <tr>\n      <th>2021-01-06</th>\n      <td>0.476722</td>\n      <td>-1.062432</td>\n      <td>0.988346</td>\n      <td>0.543079</td>\n    </tr>\n  </tbody>\n</table>\n</div>"
     },
     "execution_count": 11,
     "metadata": {},
     "output_type": "execute_result"
    }
   ],
   "source": [
    "df.tail(3)"
   ],
   "metadata": {
    "collapsed": false,
    "pycharm": {
     "name": "#%%\n"
    }
   }
  },
  {
   "cell_type": "code",
   "execution_count": 12,
   "outputs": [
    {
     "data": {
      "text/plain": "DatetimeIndex(['2021-01-01', '2021-01-02', '2021-01-03', '2021-01-04',\n               '2021-01-05', '2021-01-06'],\n              dtype='datetime64[ns]', freq='D')"
     },
     "execution_count": 12,
     "metadata": {},
     "output_type": "execute_result"
    }
   ],
   "source": [
    "df.index"
   ],
   "metadata": {
    "collapsed": false,
    "pycharm": {
     "name": "#%%\n"
    }
   }
  },
  {
   "cell_type": "code",
   "execution_count": 13,
   "outputs": [
    {
     "data": {
      "text/plain": "Index(['A', 'B', 'C', 'D'], dtype='object')"
     },
     "execution_count": 13,
     "metadata": {},
     "output_type": "execute_result"
    }
   ],
   "source": [
    "df.columns"
   ],
   "metadata": {
    "collapsed": false,
    "pycharm": {
     "name": "#%%\n"
    }
   }
  },
  {
   "cell_type": "code",
   "execution_count": 14,
   "outputs": [
    {
     "data": {
      "text/plain": "array([[ 0.62744546,  0.91957012, -1.18772611, -0.10128255],\n       [-0.01801508, -1.45247104, -0.89704784,  2.33712747],\n       [-0.5505865 ,  0.16776019, -0.88346494, -0.92323035],\n       [-0.15073028,  0.63133913, -1.54579518,  0.00856726],\n       [ 0.75278865, -0.50656872,  0.13611883,  0.62666996],\n       [ 0.4767224 , -1.06243176,  0.98834608,  0.54307858]])"
     },
     "execution_count": 14,
     "metadata": {},
     "output_type": "execute_result"
    }
   ],
   "source": [
    "# to_numpy()不要随便用。如果是将非数字类型转化时，会都转为object类型。很耗时\n",
    "df.to_numpy()"
   ],
   "metadata": {
    "collapsed": false,
    "pycharm": {
     "name": "#%%\n"
    }
   }
  },
  {
   "cell_type": "code",
   "execution_count": 15,
   "outputs": [
    {
     "data": {
      "text/plain": "array([[1.0, Timestamp('2021-01-01 00:00:00'), 1.0, 3, 'test', 'foo'],\n       [1.0, Timestamp('2021-01-01 00:00:00'), 1.0, 3, 'train', 'foo'],\n       [1.0, Timestamp('2021-01-01 00:00:00'), 1.0, 3, 'test', 'foo'],\n       [1.0, Timestamp('2021-01-01 00:00:00'), 1.0, 3, 'train', 'foo']],\n      dtype=object)"
     },
     "execution_count": 15,
     "metadata": {},
     "output_type": "execute_result"
    }
   ],
   "source": [
    "df2.to_numpy()"
   ],
   "metadata": {
    "collapsed": false,
    "pycharm": {
     "name": "#%%\n"
    }
   }
  },
  {
   "cell_type": "code",
   "execution_count": 16,
   "outputs": [
    {
     "data": {
      "text/plain": "              A         B         C         D\ncount  6.000000  6.000000  6.000000  6.000000\nmean   0.189604 -0.217134 -0.564928  0.415155\nstd    0.509536  0.947049  0.945079  1.093470\nmin   -0.550587 -1.452471 -1.545795 -0.923230\n25%   -0.117551 -0.923466 -1.115057 -0.073820\n50%    0.229354 -0.169404 -0.890256  0.275823\n75%    0.589765  0.515444 -0.118777  0.605772\nmax    0.752789  0.919570  0.988346  2.337127",
      "text/html": "<div>\n<style scoped>\n    .dataframe tbody tr th:only-of-type {\n        vertical-align: middle;\n    }\n\n    .dataframe tbody tr th {\n        vertical-align: top;\n    }\n\n    .dataframe thead th {\n        text-align: right;\n    }\n</style>\n<table border=\"1\" class=\"dataframe\">\n  <thead>\n    <tr style=\"text-align: right;\">\n      <th></th>\n      <th>A</th>\n      <th>B</th>\n      <th>C</th>\n      <th>D</th>\n    </tr>\n  </thead>\n  <tbody>\n    <tr>\n      <th>count</th>\n      <td>6.000000</td>\n      <td>6.000000</td>\n      <td>6.000000</td>\n      <td>6.000000</td>\n    </tr>\n    <tr>\n      <th>mean</th>\n      <td>0.189604</td>\n      <td>-0.217134</td>\n      <td>-0.564928</td>\n      <td>0.415155</td>\n    </tr>\n    <tr>\n      <th>std</th>\n      <td>0.509536</td>\n      <td>0.947049</td>\n      <td>0.945079</td>\n      <td>1.093470</td>\n    </tr>\n    <tr>\n      <th>min</th>\n      <td>-0.550587</td>\n      <td>-1.452471</td>\n      <td>-1.545795</td>\n      <td>-0.923230</td>\n    </tr>\n    <tr>\n      <th>25%</th>\n      <td>-0.117551</td>\n      <td>-0.923466</td>\n      <td>-1.115057</td>\n      <td>-0.073820</td>\n    </tr>\n    <tr>\n      <th>50%</th>\n      <td>0.229354</td>\n      <td>-0.169404</td>\n      <td>-0.890256</td>\n      <td>0.275823</td>\n    </tr>\n    <tr>\n      <th>75%</th>\n      <td>0.589765</td>\n      <td>0.515444</td>\n      <td>-0.118777</td>\n      <td>0.605772</td>\n    </tr>\n    <tr>\n      <th>max</th>\n      <td>0.752789</td>\n      <td>0.919570</td>\n      <td>0.988346</td>\n      <td>2.337127</td>\n    </tr>\n  </tbody>\n</table>\n</div>"
     },
     "execution_count": 16,
     "metadata": {},
     "output_type": "execute_result"
    }
   ],
   "source": [
    "df.describe()"
   ],
   "metadata": {
    "collapsed": false,
    "pycharm": {
     "name": "#%%\n"
    }
   }
  },
  {
   "cell_type": "code",
   "execution_count": 18,
   "outputs": [
    {
     "data": {
      "text/plain": "   2021-01-01  2021-01-02  2021-01-03  2021-01-04  2021-01-05  2021-01-06\nA    0.627445   -0.018015   -0.550587   -0.150730    0.752789    0.476722\nB    0.919570   -1.452471    0.167760    0.631339   -0.506569   -1.062432\nC   -1.187726   -0.897048   -0.883465   -1.545795    0.136119    0.988346\nD   -0.101283    2.337127   -0.923230    0.008567    0.626670    0.543079",
      "text/html": "<div>\n<style scoped>\n    .dataframe tbody tr th:only-of-type {\n        vertical-align: middle;\n    }\n\n    .dataframe tbody tr th {\n        vertical-align: top;\n    }\n\n    .dataframe thead th {\n        text-align: right;\n    }\n</style>\n<table border=\"1\" class=\"dataframe\">\n  <thead>\n    <tr style=\"text-align: right;\">\n      <th></th>\n      <th>2021-01-01</th>\n      <th>2021-01-02</th>\n      <th>2021-01-03</th>\n      <th>2021-01-04</th>\n      <th>2021-01-05</th>\n      <th>2021-01-06</th>\n    </tr>\n  </thead>\n  <tbody>\n    <tr>\n      <th>A</th>\n      <td>0.627445</td>\n      <td>-0.018015</td>\n      <td>-0.550587</td>\n      <td>-0.150730</td>\n      <td>0.752789</td>\n      <td>0.476722</td>\n    </tr>\n    <tr>\n      <th>B</th>\n      <td>0.919570</td>\n      <td>-1.452471</td>\n      <td>0.167760</td>\n      <td>0.631339</td>\n      <td>-0.506569</td>\n      <td>-1.062432</td>\n    </tr>\n    <tr>\n      <th>C</th>\n      <td>-1.187726</td>\n      <td>-0.897048</td>\n      <td>-0.883465</td>\n      <td>-1.545795</td>\n      <td>0.136119</td>\n      <td>0.988346</td>\n    </tr>\n    <tr>\n      <th>D</th>\n      <td>-0.101283</td>\n      <td>2.337127</td>\n      <td>-0.923230</td>\n      <td>0.008567</td>\n      <td>0.626670</td>\n      <td>0.543079</td>\n    </tr>\n  </tbody>\n</table>\n</div>"
     },
     "execution_count": 18,
     "metadata": {},
     "output_type": "execute_result"
    }
   ],
   "source": [
    "df.T  # 等于 df.transpose()"
   ],
   "metadata": {
    "collapsed": false,
    "pycharm": {
     "name": "#%%\n"
    }
   }
  },
  {
   "cell_type": "code",
   "execution_count": 20,
   "outputs": [
    {
     "data": {
      "text/plain": "                   A         B         C         D\n2021-01-06  0.476722 -1.062432  0.988346  0.543079\n2021-01-05  0.752789 -0.506569  0.136119  0.626670\n2021-01-04 -0.150730  0.631339 -1.545795  0.008567\n2021-01-03 -0.550587  0.167760 -0.883465 -0.923230\n2021-01-02 -0.018015 -1.452471 -0.897048  2.337127\n2021-01-01  0.627445  0.919570 -1.187726 -0.101283",
      "text/html": "<div>\n<style scoped>\n    .dataframe tbody tr th:only-of-type {\n        vertical-align: middle;\n    }\n\n    .dataframe tbody tr th {\n        vertical-align: top;\n    }\n\n    .dataframe thead th {\n        text-align: right;\n    }\n</style>\n<table border=\"1\" class=\"dataframe\">\n  <thead>\n    <tr style=\"text-align: right;\">\n      <th></th>\n      <th>A</th>\n      <th>B</th>\n      <th>C</th>\n      <th>D</th>\n    </tr>\n  </thead>\n  <tbody>\n    <tr>\n      <th>2021-01-06</th>\n      <td>0.476722</td>\n      <td>-1.062432</td>\n      <td>0.988346</td>\n      <td>0.543079</td>\n    </tr>\n    <tr>\n      <th>2021-01-05</th>\n      <td>0.752789</td>\n      <td>-0.506569</td>\n      <td>0.136119</td>\n      <td>0.626670</td>\n    </tr>\n    <tr>\n      <th>2021-01-04</th>\n      <td>-0.150730</td>\n      <td>0.631339</td>\n      <td>-1.545795</td>\n      <td>0.008567</td>\n    </tr>\n    <tr>\n      <th>2021-01-03</th>\n      <td>-0.550587</td>\n      <td>0.167760</td>\n      <td>-0.883465</td>\n      <td>-0.923230</td>\n    </tr>\n    <tr>\n      <th>2021-01-02</th>\n      <td>-0.018015</td>\n      <td>-1.452471</td>\n      <td>-0.897048</td>\n      <td>2.337127</td>\n    </tr>\n    <tr>\n      <th>2021-01-01</th>\n      <td>0.627445</td>\n      <td>0.919570</td>\n      <td>-1.187726</td>\n      <td>-0.101283</td>\n    </tr>\n  </tbody>\n</table>\n</div>"
     },
     "execution_count": 20,
     "metadata": {},
     "output_type": "execute_result"
    }
   ],
   "source": [
    "df.sort_index(ascending=False)"
   ],
   "metadata": {
    "collapsed": false,
    "pycharm": {
     "name": "#%%\n"
    }
   }
  },
  {
   "cell_type": "code",
   "execution_count": 21,
   "outputs": [
    {
     "name": "stderr",
     "output_type": "stream",
     "text": [
      "d:\\software\\vnstudio\\lib\\site-packages\\ipykernel_launcher.py:1: FutureWarning: by argument to sort_index is deprecated, please use .sort_values(by=...)\n",
      "  \"\"\"Entry point for launching an IPython kernel.\n"
     ]
    },
    {
     "data": {
      "text/plain": "                   A         B         C         D\n2021-01-02 -0.018015 -1.452471 -0.897048  2.337127\n2021-01-06  0.476722 -1.062432  0.988346  0.543079\n2021-01-05  0.752789 -0.506569  0.136119  0.626670\n2021-01-03 -0.550587  0.167760 -0.883465 -0.923230\n2021-01-04 -0.150730  0.631339 -1.545795  0.008567\n2021-01-01  0.627445  0.919570 -1.187726 -0.101283",
      "text/html": "<div>\n<style scoped>\n    .dataframe tbody tr th:only-of-type {\n        vertical-align: middle;\n    }\n\n    .dataframe tbody tr th {\n        vertical-align: top;\n    }\n\n    .dataframe thead th {\n        text-align: right;\n    }\n</style>\n<table border=\"1\" class=\"dataframe\">\n  <thead>\n    <tr style=\"text-align: right;\">\n      <th></th>\n      <th>A</th>\n      <th>B</th>\n      <th>C</th>\n      <th>D</th>\n    </tr>\n  </thead>\n  <tbody>\n    <tr>\n      <th>2021-01-02</th>\n      <td>-0.018015</td>\n      <td>-1.452471</td>\n      <td>-0.897048</td>\n      <td>2.337127</td>\n    </tr>\n    <tr>\n      <th>2021-01-06</th>\n      <td>0.476722</td>\n      <td>-1.062432</td>\n      <td>0.988346</td>\n      <td>0.543079</td>\n    </tr>\n    <tr>\n      <th>2021-01-05</th>\n      <td>0.752789</td>\n      <td>-0.506569</td>\n      <td>0.136119</td>\n      <td>0.626670</td>\n    </tr>\n    <tr>\n      <th>2021-01-03</th>\n      <td>-0.550587</td>\n      <td>0.167760</td>\n      <td>-0.883465</td>\n      <td>-0.923230</td>\n    </tr>\n    <tr>\n      <th>2021-01-04</th>\n      <td>-0.150730</td>\n      <td>0.631339</td>\n      <td>-1.545795</td>\n      <td>0.008567</td>\n    </tr>\n    <tr>\n      <th>2021-01-01</th>\n      <td>0.627445</td>\n      <td>0.919570</td>\n      <td>-1.187726</td>\n      <td>-0.101283</td>\n    </tr>\n  </tbody>\n</table>\n</div>"
     },
     "execution_count": 21,
     "metadata": {},
     "output_type": "execute_result"
    }
   ],
   "source": [
    "df.sort_index(by=\"B\")"
   ],
   "metadata": {
    "collapsed": false,
    "pycharm": {
     "name": "#%%\n"
    }
   }
  },
  {
   "cell_type": "markdown",
   "source": [
    "#### 选择\n",
    "这里讲了如何定位想要的数据。\n",
    "建议使用的是 `.at, .iat, .loc, .iloc` 四个方法。就不写其它方法了。\n",
    "\n",
    "##### loc : Selection by label 名称"
   ],
   "metadata": {
    "collapsed": false,
    "pycharm": {
     "name": "#%% md\n"
    }
   }
  },
  {
   "cell_type": "code",
   "execution_count": 22,
   "outputs": [
    {
     "data": {
      "text/plain": "A    0.627445\nB    0.919570\nC   -1.187726\nD   -0.101283\nName: 2021-01-01 00:00:00, dtype: float64"
     },
     "execution_count": 22,
     "metadata": {},
     "output_type": "execute_result"
    }
   ],
   "source": [
    "df.loc[dates[0]]"
   ],
   "metadata": {
    "collapsed": false,
    "pycharm": {
     "name": "#%%\n"
    }
   }
  },
  {
   "cell_type": "code",
   "execution_count": 26,
   "outputs": [
    {
     "data": {
      "text/plain": "                   A         B\n2021-01-01  0.627445  0.919570\n2021-01-02 -0.018015 -1.452471\n2021-01-03 -0.550587  0.167760\n2021-01-04 -0.150730  0.631339\n2021-01-05  0.752789 -0.506569\n2021-01-06  0.476722 -1.062432",
      "text/html": "<div>\n<style scoped>\n    .dataframe tbody tr th:only-of-type {\n        vertical-align: middle;\n    }\n\n    .dataframe tbody tr th {\n        vertical-align: top;\n    }\n\n    .dataframe thead th {\n        text-align: right;\n    }\n</style>\n<table border=\"1\" class=\"dataframe\">\n  <thead>\n    <tr style=\"text-align: right;\">\n      <th></th>\n      <th>A</th>\n      <th>B</th>\n    </tr>\n  </thead>\n  <tbody>\n    <tr>\n      <th>2021-01-01</th>\n      <td>0.627445</td>\n      <td>0.919570</td>\n    </tr>\n    <tr>\n      <th>2021-01-02</th>\n      <td>-0.018015</td>\n      <td>-1.452471</td>\n    </tr>\n    <tr>\n      <th>2021-01-03</th>\n      <td>-0.550587</td>\n      <td>0.167760</td>\n    </tr>\n    <tr>\n      <th>2021-01-04</th>\n      <td>-0.150730</td>\n      <td>0.631339</td>\n    </tr>\n    <tr>\n      <th>2021-01-05</th>\n      <td>0.752789</td>\n      <td>-0.506569</td>\n    </tr>\n    <tr>\n      <th>2021-01-06</th>\n      <td>0.476722</td>\n      <td>-1.062432</td>\n    </tr>\n  </tbody>\n</table>\n</div>"
     },
     "execution_count": 26,
     "metadata": {},
     "output_type": "execute_result"
    }
   ],
   "source": [
    "# 这里注意理解下axis， 0 是指行， 1 是指列。\n",
    "df.loc[:, [\"A\", \"B\"]]"
   ],
   "metadata": {
    "collapsed": false,
    "pycharm": {
     "name": "#%%\n"
    }
   }
  },
  {
   "cell_type": "code",
   "execution_count": 27,
   "outputs": [
    {
     "data": {
      "text/plain": "                   B         C\n2021-01-02 -1.452471 -0.897048\n2021-01-03  0.167760 -0.883465\n2021-01-04  0.631339 -1.545795\n2021-01-05 -0.506569  0.136119",
      "text/html": "<div>\n<style scoped>\n    .dataframe tbody tr th:only-of-type {\n        vertical-align: middle;\n    }\n\n    .dataframe tbody tr th {\n        vertical-align: top;\n    }\n\n    .dataframe thead th {\n        text-align: right;\n    }\n</style>\n<table border=\"1\" class=\"dataframe\">\n  <thead>\n    <tr style=\"text-align: right;\">\n      <th></th>\n      <th>B</th>\n      <th>C</th>\n    </tr>\n  </thead>\n  <tbody>\n    <tr>\n      <th>2021-01-02</th>\n      <td>-1.452471</td>\n      <td>-0.897048</td>\n    </tr>\n    <tr>\n      <th>2021-01-03</th>\n      <td>0.167760</td>\n      <td>-0.883465</td>\n    </tr>\n    <tr>\n      <th>2021-01-04</th>\n      <td>0.631339</td>\n      <td>-1.545795</td>\n    </tr>\n    <tr>\n      <th>2021-01-05</th>\n      <td>-0.506569</td>\n      <td>0.136119</td>\n    </tr>\n  </tbody>\n</table>\n</div>"
     },
     "execution_count": 27,
     "metadata": {},
     "output_type": "execute_result"
    }
   ],
   "source": [
    "# 也可以切片\n",
    "df.loc[\"20210102\":\"20210105\", [\"B\", \"C\"]]\n"
   ],
   "metadata": {
    "collapsed": false,
    "pycharm": {
     "name": "#%%\n"
    }
   }
  },
  {
   "cell_type": "code",
   "execution_count": 28,
   "outputs": [
    {
     "data": {
      "text/plain": "0.6274454575081495"
     },
     "execution_count": 28,
     "metadata": {},
     "output_type": "execute_result"
    }
   ],
   "source": [
    "df.loc[dates[0], \"A\"]"
   ],
   "metadata": {
    "collapsed": false,
    "pycharm": {
     "name": "#%%\n"
    }
   }
  },
  {
   "cell_type": "code",
   "execution_count": 32,
   "outputs": [
    {
     "data": {
      "text/plain": "0.6274454575081495"
     },
     "execution_count": 32,
     "metadata": {},
     "output_type": "execute_result"
    }
   ],
   "source": [
    "df.at[dates[0], \"A\"]"
   ],
   "metadata": {
    "collapsed": false,
    "pycharm": {
     "name": "#%%\n"
    }
   }
  },
  {
   "cell_type": "markdown",
   "source": [
    "##### iloc: Selection by position 即index\n",
    "同样还是记得axis这个概念。很重要。"
   ],
   "metadata": {
    "collapsed": false,
    "pycharm": {
     "name": "#%% md\n"
    }
   }
  },
  {
   "cell_type": "code",
   "execution_count": 33,
   "outputs": [
    {
     "data": {
      "text/plain": "A   -0.150730\nB    0.631339\nC   -1.545795\nD    0.008567\nName: 2021-01-04 00:00:00, dtype: float64"
     },
     "execution_count": 33,
     "metadata": {},
     "output_type": "execute_result"
    }
   ],
   "source": [
    "df.iloc[3]"
   ],
   "metadata": {
    "collapsed": false,
    "pycharm": {
     "name": "#%%\n"
    }
   }
  },
  {
   "cell_type": "code",
   "execution_count": 34,
   "outputs": [
    {
     "data": {
      "text/plain": "                   A         B\n2021-01-04 -0.150730  0.631339\n2021-01-05  0.752789 -0.506569",
      "text/html": "<div>\n<style scoped>\n    .dataframe tbody tr th:only-of-type {\n        vertical-align: middle;\n    }\n\n    .dataframe tbody tr th {\n        vertical-align: top;\n    }\n\n    .dataframe thead th {\n        text-align: right;\n    }\n</style>\n<table border=\"1\" class=\"dataframe\">\n  <thead>\n    <tr style=\"text-align: right;\">\n      <th></th>\n      <th>A</th>\n      <th>B</th>\n    </tr>\n  </thead>\n  <tbody>\n    <tr>\n      <th>2021-01-04</th>\n      <td>-0.150730</td>\n      <td>0.631339</td>\n    </tr>\n    <tr>\n      <th>2021-01-05</th>\n      <td>0.752789</td>\n      <td>-0.506569</td>\n    </tr>\n  </tbody>\n</table>\n</div>"
     },
     "execution_count": 34,
     "metadata": {},
     "output_type": "execute_result"
    }
   ],
   "source": [
    "# 这里和loc的区别在于：loc是前后包含，iloc是不包含后\n",
    "df.iloc[3:5, 0:2]"
   ],
   "metadata": {
    "collapsed": false,
    "pycharm": {
     "name": "#%%\n"
    }
   }
  },
  {
   "cell_type": "code",
   "execution_count": 36,
   "outputs": [
    {
     "data": {
      "text/plain": "                   D         A\n2021-01-02  2.337127 -0.018015\n2021-01-03 -0.923230 -0.550587\n2021-01-05  0.626670  0.752789",
      "text/html": "<div>\n<style scoped>\n    .dataframe tbody tr th:only-of-type {\n        vertical-align: middle;\n    }\n\n    .dataframe tbody tr th {\n        vertical-align: top;\n    }\n\n    .dataframe thead th {\n        text-align: right;\n    }\n</style>\n<table border=\"1\" class=\"dataframe\">\n  <thead>\n    <tr style=\"text-align: right;\">\n      <th></th>\n      <th>D</th>\n      <th>A</th>\n    </tr>\n  </thead>\n  <tbody>\n    <tr>\n      <th>2021-01-02</th>\n      <td>2.337127</td>\n      <td>-0.018015</td>\n    </tr>\n    <tr>\n      <th>2021-01-03</th>\n      <td>-0.923230</td>\n      <td>-0.550587</td>\n    </tr>\n    <tr>\n      <th>2021-01-05</th>\n      <td>0.626670</td>\n      <td>0.752789</td>\n    </tr>\n  </tbody>\n</table>\n</div>"
     },
     "execution_count": 36,
     "metadata": {},
     "output_type": "execute_result"
    }
   ],
   "source": [
    "df.iloc[[1,2,4], [3, 0]]"
   ],
   "metadata": {
    "collapsed": false,
    "pycharm": {
     "name": "#%%\n"
    }
   }
  },
  {
   "cell_type": "code",
   "execution_count": 37,
   "outputs": [
    {
     "data": {
      "text/plain": "                   A         B         C         D\n2021-01-02 -0.018015 -1.452471 -0.897048  2.337127\n2021-01-03 -0.550587  0.167760 -0.883465 -0.923230",
      "text/html": "<div>\n<style scoped>\n    .dataframe tbody tr th:only-of-type {\n        vertical-align: middle;\n    }\n\n    .dataframe tbody tr th {\n        vertical-align: top;\n    }\n\n    .dataframe thead th {\n        text-align: right;\n    }\n</style>\n<table border=\"1\" class=\"dataframe\">\n  <thead>\n    <tr style=\"text-align: right;\">\n      <th></th>\n      <th>A</th>\n      <th>B</th>\n      <th>C</th>\n      <th>D</th>\n    </tr>\n  </thead>\n  <tbody>\n    <tr>\n      <th>2021-01-02</th>\n      <td>-0.018015</td>\n      <td>-1.452471</td>\n      <td>-0.897048</td>\n      <td>2.337127</td>\n    </tr>\n    <tr>\n      <th>2021-01-03</th>\n      <td>-0.550587</td>\n      <td>0.167760</td>\n      <td>-0.883465</td>\n      <td>-0.923230</td>\n    </tr>\n  </tbody>\n</table>\n</div>"
     },
     "execution_count": 37,
     "metadata": {},
     "output_type": "execute_result"
    }
   ],
   "source": [
    "df.iloc[1:3, :]"
   ],
   "metadata": {
    "collapsed": false,
    "pycharm": {
     "name": "#%%\n"
    }
   }
  },
  {
   "cell_type": "code",
   "execution_count": 39,
   "outputs": [
    {
     "data": {
      "text/plain": "-1.4524710433876127"
     },
     "execution_count": 39,
     "metadata": {},
     "output_type": "execute_result"
    }
   ],
   "source": [
    "df.iloc[1, 1]  # equal df.iat[1, 1]"
   ],
   "metadata": {
    "collapsed": false,
    "pycharm": {
     "name": "#%%\n"
    }
   }
  },
  {
   "cell_type": "markdown",
   "source": [
    "##### 布尔型 indexing\n",
    "通过判断条件来选择数据。\n",
    "简单数据，通过这种筛选会更有效的看到一些初步的不同。\n"
   ],
   "metadata": {
    "collapsed": false,
    "pycharm": {
     "name": "#%% md\n"
    }
   }
  },
  {
   "cell_type": "code",
   "execution_count": 40,
   "outputs": [
    {
     "data": {
      "text/plain": "                   A         B         C         D\n2021-01-01  0.627445  0.919570 -1.187726 -0.101283\n2021-01-05  0.752789 -0.506569  0.136119  0.626670\n2021-01-06  0.476722 -1.062432  0.988346  0.543079",
      "text/html": "<div>\n<style scoped>\n    .dataframe tbody tr th:only-of-type {\n        vertical-align: middle;\n    }\n\n    .dataframe tbody tr th {\n        vertical-align: top;\n    }\n\n    .dataframe thead th {\n        text-align: right;\n    }\n</style>\n<table border=\"1\" class=\"dataframe\">\n  <thead>\n    <tr style=\"text-align: right;\">\n      <th></th>\n      <th>A</th>\n      <th>B</th>\n      <th>C</th>\n      <th>D</th>\n    </tr>\n  </thead>\n  <tbody>\n    <tr>\n      <th>2021-01-01</th>\n      <td>0.627445</td>\n      <td>0.919570</td>\n      <td>-1.187726</td>\n      <td>-0.101283</td>\n    </tr>\n    <tr>\n      <th>2021-01-05</th>\n      <td>0.752789</td>\n      <td>-0.506569</td>\n      <td>0.136119</td>\n      <td>0.626670</td>\n    </tr>\n    <tr>\n      <th>2021-01-06</th>\n      <td>0.476722</td>\n      <td>-1.062432</td>\n      <td>0.988346</td>\n      <td>0.543079</td>\n    </tr>\n  </tbody>\n</table>\n</div>"
     },
     "execution_count": 40,
     "metadata": {},
     "output_type": "execute_result"
    }
   ],
   "source": [
    "df[df[\"A\"]>0]"
   ],
   "metadata": {
    "collapsed": false,
    "pycharm": {
     "name": "#%%\n"
    }
   }
  },
  {
   "cell_type": "code",
   "execution_count": 41,
   "outputs": [
    {
     "data": {
      "text/plain": "                   A         B         C         D\n2021-01-01  0.627445  0.919570       NaN       NaN\n2021-01-02       NaN       NaN       NaN  2.337127\n2021-01-03       NaN  0.167760       NaN       NaN\n2021-01-04       NaN  0.631339       NaN  0.008567\n2021-01-05  0.752789       NaN  0.136119  0.626670\n2021-01-06  0.476722       NaN  0.988346  0.543079",
      "text/html": "<div>\n<style scoped>\n    .dataframe tbody tr th:only-of-type {\n        vertical-align: middle;\n    }\n\n    .dataframe tbody tr th {\n        vertical-align: top;\n    }\n\n    .dataframe thead th {\n        text-align: right;\n    }\n</style>\n<table border=\"1\" class=\"dataframe\">\n  <thead>\n    <tr style=\"text-align: right;\">\n      <th></th>\n      <th>A</th>\n      <th>B</th>\n      <th>C</th>\n      <th>D</th>\n    </tr>\n  </thead>\n  <tbody>\n    <tr>\n      <th>2021-01-01</th>\n      <td>0.627445</td>\n      <td>0.919570</td>\n      <td>NaN</td>\n      <td>NaN</td>\n    </tr>\n    <tr>\n      <th>2021-01-02</th>\n      <td>NaN</td>\n      <td>NaN</td>\n      <td>NaN</td>\n      <td>2.337127</td>\n    </tr>\n    <tr>\n      <th>2021-01-03</th>\n      <td>NaN</td>\n      <td>0.167760</td>\n      <td>NaN</td>\n      <td>NaN</td>\n    </tr>\n    <tr>\n      <th>2021-01-04</th>\n      <td>NaN</td>\n      <td>0.631339</td>\n      <td>NaN</td>\n      <td>0.008567</td>\n    </tr>\n    <tr>\n      <th>2021-01-05</th>\n      <td>0.752789</td>\n      <td>NaN</td>\n      <td>0.136119</td>\n      <td>0.626670</td>\n    </tr>\n    <tr>\n      <th>2021-01-06</th>\n      <td>0.476722</td>\n      <td>NaN</td>\n      <td>0.988346</td>\n      <td>0.543079</td>\n    </tr>\n  </tbody>\n</table>\n</div>"
     },
     "execution_count": 41,
     "metadata": {},
     "output_type": "execute_result"
    }
   ],
   "source": [
    "df[df>0]"
   ],
   "metadata": {
    "collapsed": false,
    "pycharm": {
     "name": "#%%\n"
    }
   }
  },
  {
   "cell_type": "code",
   "execution_count": 43,
   "outputs": [
    {
     "data": {
      "text/plain": "                   A         B         C         D      E\n2021-01-01  0.627445  0.919570 -1.187726 -0.101283    one\n2021-01-02 -0.018015 -1.452471 -0.897048  2.337127    one\n2021-01-03 -0.550587  0.167760 -0.883465 -0.923230    two\n2021-01-04 -0.150730  0.631339 -1.545795  0.008567  three\n2021-01-05  0.752789 -0.506569  0.136119  0.626670   four\n2021-01-06  0.476722 -1.062432  0.988346  0.543079  three",
      "text/html": "<div>\n<style scoped>\n    .dataframe tbody tr th:only-of-type {\n        vertical-align: middle;\n    }\n\n    .dataframe tbody tr th {\n        vertical-align: top;\n    }\n\n    .dataframe thead th {\n        text-align: right;\n    }\n</style>\n<table border=\"1\" class=\"dataframe\">\n  <thead>\n    <tr style=\"text-align: right;\">\n      <th></th>\n      <th>A</th>\n      <th>B</th>\n      <th>C</th>\n      <th>D</th>\n      <th>E</th>\n    </tr>\n  </thead>\n  <tbody>\n    <tr>\n      <th>2021-01-01</th>\n      <td>0.627445</td>\n      <td>0.919570</td>\n      <td>-1.187726</td>\n      <td>-0.101283</td>\n      <td>one</td>\n    </tr>\n    <tr>\n      <th>2021-01-02</th>\n      <td>-0.018015</td>\n      <td>-1.452471</td>\n      <td>-0.897048</td>\n      <td>2.337127</td>\n      <td>one</td>\n    </tr>\n    <tr>\n      <th>2021-01-03</th>\n      <td>-0.550587</td>\n      <td>0.167760</td>\n      <td>-0.883465</td>\n      <td>-0.923230</td>\n      <td>two</td>\n    </tr>\n    <tr>\n      <th>2021-01-04</th>\n      <td>-0.150730</td>\n      <td>0.631339</td>\n      <td>-1.545795</td>\n      <td>0.008567</td>\n      <td>three</td>\n    </tr>\n    <tr>\n      <th>2021-01-05</th>\n      <td>0.752789</td>\n      <td>-0.506569</td>\n      <td>0.136119</td>\n      <td>0.626670</td>\n      <td>four</td>\n    </tr>\n    <tr>\n      <th>2021-01-06</th>\n      <td>0.476722</td>\n      <td>-1.062432</td>\n      <td>0.988346</td>\n      <td>0.543079</td>\n      <td>three</td>\n    </tr>\n  </tbody>\n</table>\n</div>"
     },
     "execution_count": 43,
     "metadata": {},
     "output_type": "execute_result"
    }
   ],
   "source": [
    "df2 = df.copy()\n",
    "df2[\"E\"] = [\"one\", \"one\", \"two\", \"three\", \"four\", \"three\"]\n",
    "df2"
   ],
   "metadata": {
    "collapsed": false,
    "pycharm": {
     "name": "#%%\n"
    }
   }
  },
  {
   "cell_type": "code",
   "execution_count": 44,
   "outputs": [
    {
     "data": {
      "text/plain": "                   A         B         C        D     E\n2021-01-03 -0.550587  0.167760 -0.883465 -0.92323   two\n2021-01-05  0.752789 -0.506569  0.136119  0.62667  four",
      "text/html": "<div>\n<style scoped>\n    .dataframe tbody tr th:only-of-type {\n        vertical-align: middle;\n    }\n\n    .dataframe tbody tr th {\n        vertical-align: top;\n    }\n\n    .dataframe thead th {\n        text-align: right;\n    }\n</style>\n<table border=\"1\" class=\"dataframe\">\n  <thead>\n    <tr style=\"text-align: right;\">\n      <th></th>\n      <th>A</th>\n      <th>B</th>\n      <th>C</th>\n      <th>D</th>\n      <th>E</th>\n    </tr>\n  </thead>\n  <tbody>\n    <tr>\n      <th>2021-01-03</th>\n      <td>-0.550587</td>\n      <td>0.167760</td>\n      <td>-0.883465</td>\n      <td>-0.92323</td>\n      <td>two</td>\n    </tr>\n    <tr>\n      <th>2021-01-05</th>\n      <td>0.752789</td>\n      <td>-0.506569</td>\n      <td>0.136119</td>\n      <td>0.62667</td>\n      <td>four</td>\n    </tr>\n  </tbody>\n</table>\n</div>"
     },
     "execution_count": 44,
     "metadata": {},
     "output_type": "execute_result"
    }
   ],
   "source": [
    "# isin() 用来筛选多个条件\n",
    "df2[df2[\"E\"].isin([\"two\", \"four\"])]"
   ],
   "metadata": {
    "collapsed": false,
    "pycharm": {
     "name": "#%%\n"
    }
   }
  },
  {
   "cell_type": "markdown",
   "source": [
    "##### Setting\n",
    "设置数据。同样也是一个变化数据必须的步骤"
   ],
   "metadata": {
    "collapsed": false,
    "pycharm": {
     "name": "#%% md\n"
    }
   }
  },
  {
   "cell_type": "code",
   "execution_count": 45,
   "outputs": [
    {
     "data": {
      "text/plain": "                   A         B         C         D\n2021-01-01 -0.627445 -0.919570 -1.187726 -0.101283\n2021-01-02 -0.018015 -1.452471 -0.897048 -2.337127\n2021-01-03 -0.550587 -0.167760 -0.883465 -0.923230\n2021-01-04 -0.150730 -0.631339 -1.545795 -0.008567\n2021-01-05 -0.752789 -0.506569 -0.136119 -0.626670\n2021-01-06 -0.476722 -1.062432 -0.988346 -0.543079",
      "text/html": "<div>\n<style scoped>\n    .dataframe tbody tr th:only-of-type {\n        vertical-align: middle;\n    }\n\n    .dataframe tbody tr th {\n        vertical-align: top;\n    }\n\n    .dataframe thead th {\n        text-align: right;\n    }\n</style>\n<table border=\"1\" class=\"dataframe\">\n  <thead>\n    <tr style=\"text-align: right;\">\n      <th></th>\n      <th>A</th>\n      <th>B</th>\n      <th>C</th>\n      <th>D</th>\n    </tr>\n  </thead>\n  <tbody>\n    <tr>\n      <th>2021-01-01</th>\n      <td>-0.627445</td>\n      <td>-0.919570</td>\n      <td>-1.187726</td>\n      <td>-0.101283</td>\n    </tr>\n    <tr>\n      <th>2021-01-02</th>\n      <td>-0.018015</td>\n      <td>-1.452471</td>\n      <td>-0.897048</td>\n      <td>-2.337127</td>\n    </tr>\n    <tr>\n      <th>2021-01-03</th>\n      <td>-0.550587</td>\n      <td>-0.167760</td>\n      <td>-0.883465</td>\n      <td>-0.923230</td>\n    </tr>\n    <tr>\n      <th>2021-01-04</th>\n      <td>-0.150730</td>\n      <td>-0.631339</td>\n      <td>-1.545795</td>\n      <td>-0.008567</td>\n    </tr>\n    <tr>\n      <th>2021-01-05</th>\n      <td>-0.752789</td>\n      <td>-0.506569</td>\n      <td>-0.136119</td>\n      <td>-0.626670</td>\n    </tr>\n    <tr>\n      <th>2021-01-06</th>\n      <td>-0.476722</td>\n      <td>-1.062432</td>\n      <td>-0.988346</td>\n      <td>-0.543079</td>\n    </tr>\n  </tbody>\n</table>\n</div>"
     },
     "execution_count": 45,
     "metadata": {},
     "output_type": "execute_result"
    }
   ],
   "source": [
    "df2 = df.copy()\n",
    "df2[df2>0] = -df2\n",
    "df2"
   ],
   "metadata": {
    "collapsed": false,
    "pycharm": {
     "name": "#%%\n"
    }
   }
  },
  {
   "cell_type": "markdown",
   "source": [
    "#### Missing data\n",
    "丢失数据的处理\n"
   ],
   "metadata": {
    "collapsed": false,
    "pycharm": {
     "name": "#%% md\n"
    }
   }
  },
  {
   "cell_type": "code",
   "execution_count": 46,
   "outputs": [
    {
     "data": {
      "text/plain": "                   A         B         C         D    E\n2021-01-01  0.627445  0.919570 -1.187726 -0.101283  1.0\n2021-01-02 -0.018015 -1.452471 -0.897048  2.337127  1.0\n2021-01-03 -0.550587  0.167760 -0.883465 -0.923230  NaN\n2021-01-04 -0.150730  0.631339 -1.545795  0.008567  NaN",
      "text/html": "<div>\n<style scoped>\n    .dataframe tbody tr th:only-of-type {\n        vertical-align: middle;\n    }\n\n    .dataframe tbody tr th {\n        vertical-align: top;\n    }\n\n    .dataframe thead th {\n        text-align: right;\n    }\n</style>\n<table border=\"1\" class=\"dataframe\">\n  <thead>\n    <tr style=\"text-align: right;\">\n      <th></th>\n      <th>A</th>\n      <th>B</th>\n      <th>C</th>\n      <th>D</th>\n      <th>E</th>\n    </tr>\n  </thead>\n  <tbody>\n    <tr>\n      <th>2021-01-01</th>\n      <td>0.627445</td>\n      <td>0.919570</td>\n      <td>-1.187726</td>\n      <td>-0.101283</td>\n      <td>1.0</td>\n    </tr>\n    <tr>\n      <th>2021-01-02</th>\n      <td>-0.018015</td>\n      <td>-1.452471</td>\n      <td>-0.897048</td>\n      <td>2.337127</td>\n      <td>1.0</td>\n    </tr>\n    <tr>\n      <th>2021-01-03</th>\n      <td>-0.550587</td>\n      <td>0.167760</td>\n      <td>-0.883465</td>\n      <td>-0.923230</td>\n      <td>NaN</td>\n    </tr>\n    <tr>\n      <th>2021-01-04</th>\n      <td>-0.150730</td>\n      <td>0.631339</td>\n      <td>-1.545795</td>\n      <td>0.008567</td>\n      <td>NaN</td>\n    </tr>\n  </tbody>\n</table>\n</div>"
     },
     "execution_count": 46,
     "metadata": {},
     "output_type": "execute_result"
    }
   ],
   "source": [
    "df1 = df.reindex(index=dates[0:4], columns=list(df.columns) + [\"E\"])\n",
    "df1.loc[dates[0]: dates[1], \"E\"] = 1\n",
    "df1"
   ],
   "metadata": {
    "collapsed": false,
    "pycharm": {
     "name": "#%%\n"
    }
   }
  },
  {
   "cell_type": "code",
   "execution_count": 47,
   "outputs": [
    {
     "data": {
      "text/plain": "                   A         B         C         D    E\n2021-01-01  0.627445  0.919570 -1.187726 -0.101283  1.0\n2021-01-02 -0.018015 -1.452471 -0.897048  2.337127  1.0",
      "text/html": "<div>\n<style scoped>\n    .dataframe tbody tr th:only-of-type {\n        vertical-align: middle;\n    }\n\n    .dataframe tbody tr th {\n        vertical-align: top;\n    }\n\n    .dataframe thead th {\n        text-align: right;\n    }\n</style>\n<table border=\"1\" class=\"dataframe\">\n  <thead>\n    <tr style=\"text-align: right;\">\n      <th></th>\n      <th>A</th>\n      <th>B</th>\n      <th>C</th>\n      <th>D</th>\n      <th>E</th>\n    </tr>\n  </thead>\n  <tbody>\n    <tr>\n      <th>2021-01-01</th>\n      <td>0.627445</td>\n      <td>0.919570</td>\n      <td>-1.187726</td>\n      <td>-0.101283</td>\n      <td>1.0</td>\n    </tr>\n    <tr>\n      <th>2021-01-02</th>\n      <td>-0.018015</td>\n      <td>-1.452471</td>\n      <td>-0.897048</td>\n      <td>2.337127</td>\n      <td>1.0</td>\n    </tr>\n  </tbody>\n</table>\n</div>"
     },
     "execution_count": 47,
     "metadata": {},
     "output_type": "execute_result"
    }
   ],
   "source": [
    "df1.dropna(how=\"any\")"
   ],
   "metadata": {
    "collapsed": false,
    "pycharm": {
     "name": "#%%\n"
    }
   }
  },
  {
   "cell_type": "code",
   "execution_count": 48,
   "outputs": [
    {
     "data": {
      "text/plain": "                   A         B         C         D    E\n2021-01-01  0.627445  0.919570 -1.187726 -0.101283  1.0\n2021-01-02 -0.018015 -1.452471 -0.897048  2.337127  1.0\n2021-01-03 -0.550587  0.167760 -0.883465 -0.923230  5.0\n2021-01-04 -0.150730  0.631339 -1.545795  0.008567  5.0",
      "text/html": "<div>\n<style scoped>\n    .dataframe tbody tr th:only-of-type {\n        vertical-align: middle;\n    }\n\n    .dataframe tbody tr th {\n        vertical-align: top;\n    }\n\n    .dataframe thead th {\n        text-align: right;\n    }\n</style>\n<table border=\"1\" class=\"dataframe\">\n  <thead>\n    <tr style=\"text-align: right;\">\n      <th></th>\n      <th>A</th>\n      <th>B</th>\n      <th>C</th>\n      <th>D</th>\n      <th>E</th>\n    </tr>\n  </thead>\n  <tbody>\n    <tr>\n      <th>2021-01-01</th>\n      <td>0.627445</td>\n      <td>0.919570</td>\n      <td>-1.187726</td>\n      <td>-0.101283</td>\n      <td>1.0</td>\n    </tr>\n    <tr>\n      <th>2021-01-02</th>\n      <td>-0.018015</td>\n      <td>-1.452471</td>\n      <td>-0.897048</td>\n      <td>2.337127</td>\n      <td>1.0</td>\n    </tr>\n    <tr>\n      <th>2021-01-03</th>\n      <td>-0.550587</td>\n      <td>0.167760</td>\n      <td>-0.883465</td>\n      <td>-0.923230</td>\n      <td>5.0</td>\n    </tr>\n    <tr>\n      <th>2021-01-04</th>\n      <td>-0.150730</td>\n      <td>0.631339</td>\n      <td>-1.545795</td>\n      <td>0.008567</td>\n      <td>5.0</td>\n    </tr>\n  </tbody>\n</table>\n</div>"
     },
     "execution_count": 48,
     "metadata": {},
     "output_type": "execute_result"
    }
   ],
   "source": [
    "df1.fillna(value=5)"
   ],
   "metadata": {
    "collapsed": false,
    "pycharm": {
     "name": "#%%\n"
    }
   }
  },
  {
   "cell_type": "code",
   "execution_count": 51,
   "outputs": [
    {
     "data": {
      "text/plain": "                A      B      C      D      E\n2021-01-01  False  False  False  False  False\n2021-01-02  False  False  False  False  False\n2021-01-03  False  False  False  False   True\n2021-01-04  False  False  False  False   True",
      "text/html": "<div>\n<style scoped>\n    .dataframe tbody tr th:only-of-type {\n        vertical-align: middle;\n    }\n\n    .dataframe tbody tr th {\n        vertical-align: top;\n    }\n\n    .dataframe thead th {\n        text-align: right;\n    }\n</style>\n<table border=\"1\" class=\"dataframe\">\n  <thead>\n    <tr style=\"text-align: right;\">\n      <th></th>\n      <th>A</th>\n      <th>B</th>\n      <th>C</th>\n      <th>D</th>\n      <th>E</th>\n    </tr>\n  </thead>\n  <tbody>\n    <tr>\n      <th>2021-01-01</th>\n      <td>False</td>\n      <td>False</td>\n      <td>False</td>\n      <td>False</td>\n      <td>False</td>\n    </tr>\n    <tr>\n      <th>2021-01-02</th>\n      <td>False</td>\n      <td>False</td>\n      <td>False</td>\n      <td>False</td>\n      <td>False</td>\n    </tr>\n    <tr>\n      <th>2021-01-03</th>\n      <td>False</td>\n      <td>False</td>\n      <td>False</td>\n      <td>False</td>\n      <td>True</td>\n    </tr>\n    <tr>\n      <th>2021-01-04</th>\n      <td>False</td>\n      <td>False</td>\n      <td>False</td>\n      <td>False</td>\n      <td>True</td>\n    </tr>\n  </tbody>\n</table>\n</div>"
     },
     "execution_count": 51,
     "metadata": {},
     "output_type": "execute_result"
    }
   ],
   "source": [
    "# 这里，df1通过fillna填充的数据，还是可以通过isna找到\n",
    "# TODO：弄明白原理。文中写这个是mask。\n",
    "pd.isna(df1)"
   ],
   "metadata": {
    "collapsed": false,
    "pycharm": {
     "name": "#%%\n"
    }
   }
  },
  {
   "cell_type": "markdown",
   "source": [
    "#### Operations 操作\n",
    "\n",
    "##### 统计\n",
    "这里简单跟着官方文档写下。后边会深入学习。"
   ],
   "metadata": {
    "collapsed": false,
    "pycharm": {
     "name": "#%% md\n"
    }
   }
  },
  {
   "cell_type": "code",
   "execution_count": 52,
   "outputs": [
    {
     "data": {
      "text/plain": "A    0.189604\nB   -0.217134\nC   -0.564928\nD    0.415155\ndtype: float64"
     },
     "execution_count": 52,
     "metadata": {},
     "output_type": "execute_result"
    }
   ],
   "source": [
    "df.mean(0)"
   ],
   "metadata": {
    "collapsed": false,
    "pycharm": {
     "name": "#%%\n"
    }
   }
  },
  {
   "cell_type": "code",
   "execution_count": 53,
   "outputs": [
    {
     "data": {
      "text/plain": "2021-01-01    0.064502\n2021-01-02   -0.007602\n2021-01-03   -0.547380\n2021-01-04   -0.264155\n2021-01-05    0.252252\n2021-01-06    0.236429\nFreq: D, dtype: float64"
     },
     "execution_count": 53,
     "metadata": {},
     "output_type": "execute_result"
    }
   ],
   "source": [
    "df.mean(1)"
   ],
   "metadata": {
    "collapsed": false,
    "pycharm": {
     "name": "#%%\n"
    }
   }
  },
  {
   "cell_type": "code",
   "execution_count": 54,
   "outputs": [
    {
     "data": {
      "text/plain": "2021-01-01    NaN\n2021-01-02    NaN\n2021-01-03    1.0\n2021-01-04    3.0\n2021-01-05    5.0\n2021-01-06    NaN\nFreq: D, dtype: float64"
     },
     "execution_count": 54,
     "metadata": {},
     "output_type": "execute_result"
    }
   ],
   "source": [
    "s = pd.Series([1, 3, 5, np.nan, 9, 11], index=dates).shift(2)\n",
    "s"
   ],
   "metadata": {
    "collapsed": false,
    "pycharm": {
     "name": "#%%\n"
    }
   }
  },
  {
   "cell_type": "code",
   "execution_count": 60,
   "outputs": [
    {
     "data": {
      "text/plain": "                   A         B         C         D\n2021-01-01       NaN       NaN       NaN       NaN\n2021-01-02       NaN       NaN       NaN       NaN\n2021-01-03 -1.550587 -0.832240 -1.883465 -1.923230\n2021-01-04 -3.150730 -2.368661 -4.545795 -2.991433\n2021-01-05 -4.247211 -5.506569 -4.863881 -4.373330\n2021-01-06       NaN       NaN       NaN       NaN",
      "text/html": "<div>\n<style scoped>\n    .dataframe tbody tr th:only-of-type {\n        vertical-align: middle;\n    }\n\n    .dataframe tbody tr th {\n        vertical-align: top;\n    }\n\n    .dataframe thead th {\n        text-align: right;\n    }\n</style>\n<table border=\"1\" class=\"dataframe\">\n  <thead>\n    <tr style=\"text-align: right;\">\n      <th></th>\n      <th>A</th>\n      <th>B</th>\n      <th>C</th>\n      <th>D</th>\n    </tr>\n  </thead>\n  <tbody>\n    <tr>\n      <th>2021-01-01</th>\n      <td>NaN</td>\n      <td>NaN</td>\n      <td>NaN</td>\n      <td>NaN</td>\n    </tr>\n    <tr>\n      <th>2021-01-02</th>\n      <td>NaN</td>\n      <td>NaN</td>\n      <td>NaN</td>\n      <td>NaN</td>\n    </tr>\n    <tr>\n      <th>2021-01-03</th>\n      <td>-1.550587</td>\n      <td>-0.832240</td>\n      <td>-1.883465</td>\n      <td>-1.923230</td>\n    </tr>\n    <tr>\n      <th>2021-01-04</th>\n      <td>-3.150730</td>\n      <td>-2.368661</td>\n      <td>-4.545795</td>\n      <td>-2.991433</td>\n    </tr>\n    <tr>\n      <th>2021-01-05</th>\n      <td>-4.247211</td>\n      <td>-5.506569</td>\n      <td>-4.863881</td>\n      <td>-4.373330</td>\n    </tr>\n    <tr>\n      <th>2021-01-06</th>\n      <td>NaN</td>\n      <td>NaN</td>\n      <td>NaN</td>\n      <td>NaN</td>\n    </tr>\n  </tbody>\n</table>\n</div>"
     },
     "execution_count": 60,
     "metadata": {},
     "output_type": "execute_result"
    }
   ],
   "source": [
    "df.sub(s, axis=\"index\") # 用df减去s"
   ],
   "metadata": {
    "collapsed": false,
    "pycharm": {
     "name": "#%%\n"
    }
   }
  },
  {
   "cell_type": "markdown",
   "source": [
    "##### Apply\n",
    "算是最有意思的一个方法了。用于处理数据。"
   ],
   "metadata": {
    "collapsed": false,
    "pycharm": {
     "name": "#%% md\n"
    }
   }
  },
  {
   "cell_type": "code",
   "execution_count": 61,
   "outputs": [
    {
     "data": {
      "text/plain": "                   A         B         C         D\n2021-01-01  0.627445  0.919570 -1.187726 -0.101283\n2021-01-02  0.609430 -0.532901 -2.084774  2.235845\n2021-01-03  0.058844 -0.365141 -2.968239  1.312615\n2021-01-04 -0.091886  0.266198 -4.514034  1.321182\n2021-01-05  0.660902 -0.240370 -4.377915  1.947852\n2021-01-06  1.137625 -1.302802 -3.389569  2.490930",
      "text/html": "<div>\n<style scoped>\n    .dataframe tbody tr th:only-of-type {\n        vertical-align: middle;\n    }\n\n    .dataframe tbody tr th {\n        vertical-align: top;\n    }\n\n    .dataframe thead th {\n        text-align: right;\n    }\n</style>\n<table border=\"1\" class=\"dataframe\">\n  <thead>\n    <tr style=\"text-align: right;\">\n      <th></th>\n      <th>A</th>\n      <th>B</th>\n      <th>C</th>\n      <th>D</th>\n    </tr>\n  </thead>\n  <tbody>\n    <tr>\n      <th>2021-01-01</th>\n      <td>0.627445</td>\n      <td>0.919570</td>\n      <td>-1.187726</td>\n      <td>-0.101283</td>\n    </tr>\n    <tr>\n      <th>2021-01-02</th>\n      <td>0.609430</td>\n      <td>-0.532901</td>\n      <td>-2.084774</td>\n      <td>2.235845</td>\n    </tr>\n    <tr>\n      <th>2021-01-03</th>\n      <td>0.058844</td>\n      <td>-0.365141</td>\n      <td>-2.968239</td>\n      <td>1.312615</td>\n    </tr>\n    <tr>\n      <th>2021-01-04</th>\n      <td>-0.091886</td>\n      <td>0.266198</td>\n      <td>-4.514034</td>\n      <td>1.321182</td>\n    </tr>\n    <tr>\n      <th>2021-01-05</th>\n      <td>0.660902</td>\n      <td>-0.240370</td>\n      <td>-4.377915</td>\n      <td>1.947852</td>\n    </tr>\n    <tr>\n      <th>2021-01-06</th>\n      <td>1.137625</td>\n      <td>-1.302802</td>\n      <td>-3.389569</td>\n      <td>2.490930</td>\n    </tr>\n  </tbody>\n</table>\n</div>"
     },
     "execution_count": 61,
     "metadata": {},
     "output_type": "execute_result"
    }
   ],
   "source": [
    "df.apply(np.cumsum)\n"
   ],
   "metadata": {
    "collapsed": false,
    "pycharm": {
     "name": "#%%\n"
    }
   }
  },
  {
   "cell_type": "code",
   "execution_count": 62,
   "outputs": [
    {
     "data": {
      "text/plain": "A    1.303375\nB    2.372041\nC    2.534141\nD    3.260358\ndtype: float64"
     },
     "execution_count": 62,
     "metadata": {},
     "output_type": "execute_result"
    }
   ],
   "source": [
    "df.apply(lambda x: x.max() - x.min())"
   ],
   "metadata": {
    "collapsed": false,
    "pycharm": {
     "name": "#%%\n"
    }
   }
  },
  {
   "cell_type": "markdown",
   "source": [
    "#### Merge 合并\n",
    "有两种方式。一个concat，一个join。\n",
    "这块经常用到也是。\n"
   ],
   "metadata": {
    "collapsed": false,
    "pycharm": {
     "name": "#%% md\n"
    }
   }
  },
  {
   "cell_type": "code",
   "execution_count": 64,
   "outputs": [
    {
     "data": {
      "text/plain": "          0         1         2         3\n0 -2.182904 -1.950158 -0.860137 -1.059878\n1  1.400910 -1.562209  0.354533 -0.701314\n2 -0.125271 -0.261585 -0.975121 -0.396658\n3  1.156702  0.233368  1.193686  0.601394\n4 -0.223079  1.102356  0.465808  0.461869\n5  1.935319 -0.432694  1.010228 -2.010836\n6  0.589509 -0.113083 -0.260055 -1.000811\n7 -0.461179  0.004107  1.596869  0.124233\n8  0.626396 -0.246509  0.844803 -0.017730\n9  0.652680  0.260238 -0.275766 -0.266441",
      "text/html": "<div>\n<style scoped>\n    .dataframe tbody tr th:only-of-type {\n        vertical-align: middle;\n    }\n\n    .dataframe tbody tr th {\n        vertical-align: top;\n    }\n\n    .dataframe thead th {\n        text-align: right;\n    }\n</style>\n<table border=\"1\" class=\"dataframe\">\n  <thead>\n    <tr style=\"text-align: right;\">\n      <th></th>\n      <th>0</th>\n      <th>1</th>\n      <th>2</th>\n      <th>3</th>\n    </tr>\n  </thead>\n  <tbody>\n    <tr>\n      <th>0</th>\n      <td>-2.182904</td>\n      <td>-1.950158</td>\n      <td>-0.860137</td>\n      <td>-1.059878</td>\n    </tr>\n    <tr>\n      <th>1</th>\n      <td>1.400910</td>\n      <td>-1.562209</td>\n      <td>0.354533</td>\n      <td>-0.701314</td>\n    </tr>\n    <tr>\n      <th>2</th>\n      <td>-0.125271</td>\n      <td>-0.261585</td>\n      <td>-0.975121</td>\n      <td>-0.396658</td>\n    </tr>\n    <tr>\n      <th>3</th>\n      <td>1.156702</td>\n      <td>0.233368</td>\n      <td>1.193686</td>\n      <td>0.601394</td>\n    </tr>\n    <tr>\n      <th>4</th>\n      <td>-0.223079</td>\n      <td>1.102356</td>\n      <td>0.465808</td>\n      <td>0.461869</td>\n    </tr>\n    <tr>\n      <th>5</th>\n      <td>1.935319</td>\n      <td>-0.432694</td>\n      <td>1.010228</td>\n      <td>-2.010836</td>\n    </tr>\n    <tr>\n      <th>6</th>\n      <td>0.589509</td>\n      <td>-0.113083</td>\n      <td>-0.260055</td>\n      <td>-1.000811</td>\n    </tr>\n    <tr>\n      <th>7</th>\n      <td>-0.461179</td>\n      <td>0.004107</td>\n      <td>1.596869</td>\n      <td>0.124233</td>\n    </tr>\n    <tr>\n      <th>8</th>\n      <td>0.626396</td>\n      <td>-0.246509</td>\n      <td>0.844803</td>\n      <td>-0.017730</td>\n    </tr>\n    <tr>\n      <th>9</th>\n      <td>0.652680</td>\n      <td>0.260238</td>\n      <td>-0.275766</td>\n      <td>-0.266441</td>\n    </tr>\n  </tbody>\n</table>\n</div>"
     },
     "execution_count": 64,
     "metadata": {},
     "output_type": "execute_result"
    }
   ],
   "source": [
    "df = pd.DataFrame(np.random.randn(10, 4))\n",
    "df"
   ],
   "metadata": {
    "collapsed": false,
    "pycharm": {
     "name": "#%%\n"
    }
   }
  },
  {
   "cell_type": "code",
   "execution_count": 65,
   "outputs": [
    {
     "data": {
      "text/plain": "[          0         1         2         3\n 0 -2.182904 -1.950158 -0.860137 -1.059878\n 1  1.400910 -1.562209  0.354533 -0.701314\n 2 -0.125271 -0.261585 -0.975121 -0.396658,\n           0         1         2         3\n 3  1.156702  0.233368  1.193686  0.601394\n 4 -0.223079  1.102356  0.465808  0.461869\n 5  1.935319 -0.432694  1.010228 -2.010836\n 6  0.589509 -0.113083 -0.260055 -1.000811,\n           0         1         2         3\n 7 -0.461179  0.004107  1.596869  0.124233\n 8  0.626396 -0.246509  0.844803 -0.017730\n 9  0.652680  0.260238 -0.275766 -0.266441]"
     },
     "execution_count": 65,
     "metadata": {},
     "output_type": "execute_result"
    }
   ],
   "source": [
    "pieces = [df[:3], df[3:7], df[7:]]\n",
    "pieces"
   ],
   "metadata": {
    "collapsed": false,
    "pycharm": {
     "name": "#%%\n"
    }
   }
  },
  {
   "cell_type": "code",
   "execution_count": 66,
   "outputs": [
    {
     "data": {
      "text/plain": "          0         1         2         3\n0 -2.182904 -1.950158 -0.860137 -1.059878\n1  1.400910 -1.562209  0.354533 -0.701314\n2 -0.125271 -0.261585 -0.975121 -0.396658\n3  1.156702  0.233368  1.193686  0.601394\n4 -0.223079  1.102356  0.465808  0.461869\n5  1.935319 -0.432694  1.010228 -2.010836\n6  0.589509 -0.113083 -0.260055 -1.000811\n7 -0.461179  0.004107  1.596869  0.124233\n8  0.626396 -0.246509  0.844803 -0.017730\n9  0.652680  0.260238 -0.275766 -0.266441",
      "text/html": "<div>\n<style scoped>\n    .dataframe tbody tr th:only-of-type {\n        vertical-align: middle;\n    }\n\n    .dataframe tbody tr th {\n        vertical-align: top;\n    }\n\n    .dataframe thead th {\n        text-align: right;\n    }\n</style>\n<table border=\"1\" class=\"dataframe\">\n  <thead>\n    <tr style=\"text-align: right;\">\n      <th></th>\n      <th>0</th>\n      <th>1</th>\n      <th>2</th>\n      <th>3</th>\n    </tr>\n  </thead>\n  <tbody>\n    <tr>\n      <th>0</th>\n      <td>-2.182904</td>\n      <td>-1.950158</td>\n      <td>-0.860137</td>\n      <td>-1.059878</td>\n    </tr>\n    <tr>\n      <th>1</th>\n      <td>1.400910</td>\n      <td>-1.562209</td>\n      <td>0.354533</td>\n      <td>-0.701314</td>\n    </tr>\n    <tr>\n      <th>2</th>\n      <td>-0.125271</td>\n      <td>-0.261585</td>\n      <td>-0.975121</td>\n      <td>-0.396658</td>\n    </tr>\n    <tr>\n      <th>3</th>\n      <td>1.156702</td>\n      <td>0.233368</td>\n      <td>1.193686</td>\n      <td>0.601394</td>\n    </tr>\n    <tr>\n      <th>4</th>\n      <td>-0.223079</td>\n      <td>1.102356</td>\n      <td>0.465808</td>\n      <td>0.461869</td>\n    </tr>\n    <tr>\n      <th>5</th>\n      <td>1.935319</td>\n      <td>-0.432694</td>\n      <td>1.010228</td>\n      <td>-2.010836</td>\n    </tr>\n    <tr>\n      <th>6</th>\n      <td>0.589509</td>\n      <td>-0.113083</td>\n      <td>-0.260055</td>\n      <td>-1.000811</td>\n    </tr>\n    <tr>\n      <th>7</th>\n      <td>-0.461179</td>\n      <td>0.004107</td>\n      <td>1.596869</td>\n      <td>0.124233</td>\n    </tr>\n    <tr>\n      <th>8</th>\n      <td>0.626396</td>\n      <td>-0.246509</td>\n      <td>0.844803</td>\n      <td>-0.017730</td>\n    </tr>\n    <tr>\n      <th>9</th>\n      <td>0.652680</td>\n      <td>0.260238</td>\n      <td>-0.275766</td>\n      <td>-0.266441</td>\n    </tr>\n  </tbody>\n</table>\n</div>"
     },
     "execution_count": 66,
     "metadata": {},
     "output_type": "execute_result"
    }
   ],
   "source": [
    "pd.concat(pieces)"
   ],
   "metadata": {
    "collapsed": false,
    "pycharm": {
     "name": "#%%\n"
    }
   }
  },
  {
   "cell_type": "code",
   "execution_count": null,
   "outputs": [],
   "source": [],
   "metadata": {
    "collapsed": false,
    "pycharm": {
     "name": "#%%\n"
    }
   }
  }
 ],
 "metadata": {
  "kernelspec": {
   "display_name": "Python 3",
   "language": "python",
   "name": "python3"
  },
  "language_info": {
   "codemirror_mode": {
    "name": "ipython",
    "version": 3
   },
   "file_extension": ".py",
   "mimetype": "text/x-python",
   "name": "python",
   "nbconvert_exporter": "python",
   "pygments_lexer": "ipython3",
   "version": "3.7.1"
  }
 },
 "nbformat": 4,
 "nbformat_minor": 1
}